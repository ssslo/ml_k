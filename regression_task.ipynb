{
 "cells": [
  {
   "cell_type": "markdown",
   "id": "74a9c147",
   "metadata": {},
   "source": [
    "# Create a regression model using Multiple Linear Regression"
   ]
  },
  {
   "cell_type": "markdown",
   "id": "fa72b7db",
   "metadata": {},
   "source": [
    "### 1. "
   ]
  },
  {
   "cell_type": "code",
   "execution_count": 1,
   "id": "22043c52",
   "metadata": {},
   "outputs": [],
   "source": [
    "import numpy as np\n",
    "import pandas as pd\n",
    "import matplotlib.pyplot as plt\n",
    "%matplotlib inline"
   ]
  },
  {
   "cell_type": "code",
   "execution_count": 2,
   "id": "da547102",
   "metadata": {},
   "outputs": [
    {
     "data": {
      "text/html": [
       "<div>\n",
       "<style scoped>\n",
       "    .dataframe tbody tr th:only-of-type {\n",
       "        vertical-align: middle;\n",
       "    }\n",
       "\n",
       "    .dataframe tbody tr th {\n",
       "        vertical-align: top;\n",
       "    }\n",
       "\n",
       "    .dataframe thead th {\n",
       "        text-align: right;\n",
       "    }\n",
       "</style>\n",
       "<table border=\"1\" class=\"dataframe\">\n",
       "  <thead>\n",
       "    <tr style=\"text-align: right;\">\n",
       "      <th></th>\n",
       "      <th>price</th>\n",
       "      <th>bedrooms</th>\n",
       "      <th>bathrooms</th>\n",
       "      <th>sqft_living</th>\n",
       "      <th>sqft_lot</th>\n",
       "      <th>floors</th>\n",
       "      <th>grade</th>\n",
       "      <th>sqft_above</th>\n",
       "      <th>sqft_basement</th>\n",
       "      <th>yr_built</th>\n",
       "      <th>yr_renovated</th>\n",
       "      <th>lat</th>\n",
       "      <th>long</th>\n",
       "      <th>sqft_living15</th>\n",
       "      <th>sqft_lot15</th>\n",
       "      <th>condition</th>\n",
       "    </tr>\n",
       "  </thead>\n",
       "  <tbody>\n",
       "    <tr>\n",
       "      <th>0</th>\n",
       "      <td>221900.0</td>\n",
       "      <td>3</td>\n",
       "      <td>1.00</td>\n",
       "      <td>1180</td>\n",
       "      <td>5650</td>\n",
       "      <td>1.0</td>\n",
       "      <td>7</td>\n",
       "      <td>1180</td>\n",
       "      <td>0</td>\n",
       "      <td>1955</td>\n",
       "      <td>0</td>\n",
       "      <td>47.5112</td>\n",
       "      <td>-122.257</td>\n",
       "      <td>1340</td>\n",
       "      <td>5650</td>\n",
       "      <td>3</td>\n",
       "    </tr>\n",
       "    <tr>\n",
       "      <th>1</th>\n",
       "      <td>538000.0</td>\n",
       "      <td>3</td>\n",
       "      <td>2.25</td>\n",
       "      <td>2570</td>\n",
       "      <td>7242</td>\n",
       "      <td>2.0</td>\n",
       "      <td>7</td>\n",
       "      <td>2170</td>\n",
       "      <td>400</td>\n",
       "      <td>1951</td>\n",
       "      <td>1991</td>\n",
       "      <td>47.7210</td>\n",
       "      <td>-122.319</td>\n",
       "      <td>1690</td>\n",
       "      <td>7639</td>\n",
       "      <td>3</td>\n",
       "    </tr>\n",
       "    <tr>\n",
       "      <th>2</th>\n",
       "      <td>180000.0</td>\n",
       "      <td>2</td>\n",
       "      <td>1.00</td>\n",
       "      <td>770</td>\n",
       "      <td>10000</td>\n",
       "      <td>1.0</td>\n",
       "      <td>6</td>\n",
       "      <td>770</td>\n",
       "      <td>0</td>\n",
       "      <td>1933</td>\n",
       "      <td>0</td>\n",
       "      <td>47.7379</td>\n",
       "      <td>-122.233</td>\n",
       "      <td>2720</td>\n",
       "      <td>8062</td>\n",
       "      <td>3</td>\n",
       "    </tr>\n",
       "    <tr>\n",
       "      <th>3</th>\n",
       "      <td>604000.0</td>\n",
       "      <td>4</td>\n",
       "      <td>3.00</td>\n",
       "      <td>1960</td>\n",
       "      <td>5000</td>\n",
       "      <td>1.0</td>\n",
       "      <td>7</td>\n",
       "      <td>1050</td>\n",
       "      <td>910</td>\n",
       "      <td>1965</td>\n",
       "      <td>0</td>\n",
       "      <td>47.5208</td>\n",
       "      <td>-122.393</td>\n",
       "      <td>1360</td>\n",
       "      <td>5000</td>\n",
       "      <td>5</td>\n",
       "    </tr>\n",
       "    <tr>\n",
       "      <th>4</th>\n",
       "      <td>510000.0</td>\n",
       "      <td>3</td>\n",
       "      <td>2.00</td>\n",
       "      <td>1680</td>\n",
       "      <td>8080</td>\n",
       "      <td>1.0</td>\n",
       "      <td>8</td>\n",
       "      <td>1680</td>\n",
       "      <td>0</td>\n",
       "      <td>1987</td>\n",
       "      <td>0</td>\n",
       "      <td>47.6168</td>\n",
       "      <td>-122.045</td>\n",
       "      <td>1800</td>\n",
       "      <td>7503</td>\n",
       "      <td>3</td>\n",
       "    </tr>\n",
       "  </tbody>\n",
       "</table>\n",
       "</div>"
      ],
      "text/plain": [
       "      price  bedrooms  bathrooms  sqft_living  sqft_lot  floors  grade  \\\n",
       "0  221900.0         3       1.00         1180      5650     1.0      7   \n",
       "1  538000.0         3       2.25         2570      7242     2.0      7   \n",
       "2  180000.0         2       1.00          770     10000     1.0      6   \n",
       "3  604000.0         4       3.00         1960      5000     1.0      7   \n",
       "4  510000.0         3       2.00         1680      8080     1.0      8   \n",
       "\n",
       "   sqft_above  sqft_basement  yr_built  yr_renovated      lat     long  \\\n",
       "0        1180              0      1955             0  47.5112 -122.257   \n",
       "1        2170            400      1951          1991  47.7210 -122.319   \n",
       "2         770              0      1933             0  47.7379 -122.233   \n",
       "3        1050            910      1965             0  47.5208 -122.393   \n",
       "4        1680              0      1987             0  47.6168 -122.045   \n",
       "\n",
       "   sqft_living15  sqft_lot15  condition  \n",
       "0           1340        5650          3  \n",
       "1           1690        7639          3  \n",
       "2           2720        8062          3  \n",
       "3           1360        5000          5  \n",
       "4           1800        7503          3  "
      ]
     },
     "execution_count": 2,
     "metadata": {},
     "output_type": "execute_result"
    }
   ],
   "source": [
    "data = pd.read_csv('kc_house_data.csv')\n",
    "data.head()"
   ]
  },
  {
   "cell_type": "code",
   "execution_count": 3,
   "id": "b47ead16",
   "metadata": {},
   "outputs": [
    {
     "data": {
      "text/html": [
       "<div>\n",
       "<style scoped>\n",
       "    .dataframe tbody tr th:only-of-type {\n",
       "        vertical-align: middle;\n",
       "    }\n",
       "\n",
       "    .dataframe tbody tr th {\n",
       "        vertical-align: top;\n",
       "    }\n",
       "\n",
       "    .dataframe thead th {\n",
       "        text-align: right;\n",
       "    }\n",
       "</style>\n",
       "<table border=\"1\" class=\"dataframe\">\n",
       "  <thead>\n",
       "    <tr style=\"text-align: right;\">\n",
       "      <th></th>\n",
       "      <th>price</th>\n",
       "      <th>bedrooms</th>\n",
       "      <th>bathrooms</th>\n",
       "      <th>sqft_living</th>\n",
       "      <th>sqft_lot</th>\n",
       "      <th>floors</th>\n",
       "      <th>grade</th>\n",
       "      <th>sqft_above</th>\n",
       "      <th>sqft_basement</th>\n",
       "      <th>yr_built</th>\n",
       "      <th>yr_renovated</th>\n",
       "      <th>lat</th>\n",
       "      <th>long</th>\n",
       "      <th>sqft_living15</th>\n",
       "      <th>sqft_lot15</th>\n",
       "      <th>condition</th>\n",
       "    </tr>\n",
       "  </thead>\n",
       "  <tbody>\n",
       "    <tr>\n",
       "      <th>count</th>\n",
       "      <td>2.161300e+04</td>\n",
       "      <td>21613.000000</td>\n",
       "      <td>21613.000000</td>\n",
       "      <td>21613.000000</td>\n",
       "      <td>2.161300e+04</td>\n",
       "      <td>21613.000000</td>\n",
       "      <td>21613.000000</td>\n",
       "      <td>21613.000000</td>\n",
       "      <td>21613.000000</td>\n",
       "      <td>21613.000000</td>\n",
       "      <td>21613.000000</td>\n",
       "      <td>21613.000000</td>\n",
       "      <td>21613.000000</td>\n",
       "      <td>21613.000000</td>\n",
       "      <td>21613.000000</td>\n",
       "      <td>21613.000000</td>\n",
       "    </tr>\n",
       "    <tr>\n",
       "      <th>mean</th>\n",
       "      <td>5.401822e+05</td>\n",
       "      <td>3.370842</td>\n",
       "      <td>2.114757</td>\n",
       "      <td>2079.899736</td>\n",
       "      <td>1.510697e+04</td>\n",
       "      <td>1.494309</td>\n",
       "      <td>7.656873</td>\n",
       "      <td>1788.390691</td>\n",
       "      <td>291.509045</td>\n",
       "      <td>1971.005136</td>\n",
       "      <td>84.402258</td>\n",
       "      <td>47.560053</td>\n",
       "      <td>-122.213896</td>\n",
       "      <td>1986.552492</td>\n",
       "      <td>12768.455652</td>\n",
       "      <td>3.409430</td>\n",
       "    </tr>\n",
       "    <tr>\n",
       "      <th>std</th>\n",
       "      <td>3.673622e+05</td>\n",
       "      <td>0.930062</td>\n",
       "      <td>0.770163</td>\n",
       "      <td>918.440897</td>\n",
       "      <td>4.142051e+04</td>\n",
       "      <td>0.539989</td>\n",
       "      <td>1.175459</td>\n",
       "      <td>828.090978</td>\n",
       "      <td>442.575043</td>\n",
       "      <td>29.373411</td>\n",
       "      <td>401.679240</td>\n",
       "      <td>0.138564</td>\n",
       "      <td>0.140828</td>\n",
       "      <td>685.391304</td>\n",
       "      <td>27304.179631</td>\n",
       "      <td>0.650743</td>\n",
       "    </tr>\n",
       "    <tr>\n",
       "      <th>min</th>\n",
       "      <td>7.500000e+04</td>\n",
       "      <td>0.000000</td>\n",
       "      <td>0.000000</td>\n",
       "      <td>290.000000</td>\n",
       "      <td>5.200000e+02</td>\n",
       "      <td>1.000000</td>\n",
       "      <td>1.000000</td>\n",
       "      <td>290.000000</td>\n",
       "      <td>0.000000</td>\n",
       "      <td>1900.000000</td>\n",
       "      <td>0.000000</td>\n",
       "      <td>47.155900</td>\n",
       "      <td>-122.519000</td>\n",
       "      <td>399.000000</td>\n",
       "      <td>651.000000</td>\n",
       "      <td>1.000000</td>\n",
       "    </tr>\n",
       "    <tr>\n",
       "      <th>25%</th>\n",
       "      <td>3.219500e+05</td>\n",
       "      <td>3.000000</td>\n",
       "      <td>1.750000</td>\n",
       "      <td>1427.000000</td>\n",
       "      <td>5.040000e+03</td>\n",
       "      <td>1.000000</td>\n",
       "      <td>7.000000</td>\n",
       "      <td>1190.000000</td>\n",
       "      <td>0.000000</td>\n",
       "      <td>1951.000000</td>\n",
       "      <td>0.000000</td>\n",
       "      <td>47.471000</td>\n",
       "      <td>-122.328000</td>\n",
       "      <td>1490.000000</td>\n",
       "      <td>5100.000000</td>\n",
       "      <td>3.000000</td>\n",
       "    </tr>\n",
       "    <tr>\n",
       "      <th>50%</th>\n",
       "      <td>4.500000e+05</td>\n",
       "      <td>3.000000</td>\n",
       "      <td>2.250000</td>\n",
       "      <td>1910.000000</td>\n",
       "      <td>7.618000e+03</td>\n",
       "      <td>1.500000</td>\n",
       "      <td>7.000000</td>\n",
       "      <td>1560.000000</td>\n",
       "      <td>0.000000</td>\n",
       "      <td>1975.000000</td>\n",
       "      <td>0.000000</td>\n",
       "      <td>47.571800</td>\n",
       "      <td>-122.230000</td>\n",
       "      <td>1840.000000</td>\n",
       "      <td>7620.000000</td>\n",
       "      <td>3.000000</td>\n",
       "    </tr>\n",
       "    <tr>\n",
       "      <th>75%</th>\n",
       "      <td>6.450000e+05</td>\n",
       "      <td>4.000000</td>\n",
       "      <td>2.500000</td>\n",
       "      <td>2550.000000</td>\n",
       "      <td>1.068800e+04</td>\n",
       "      <td>2.000000</td>\n",
       "      <td>8.000000</td>\n",
       "      <td>2210.000000</td>\n",
       "      <td>560.000000</td>\n",
       "      <td>1997.000000</td>\n",
       "      <td>0.000000</td>\n",
       "      <td>47.678000</td>\n",
       "      <td>-122.125000</td>\n",
       "      <td>2360.000000</td>\n",
       "      <td>10083.000000</td>\n",
       "      <td>4.000000</td>\n",
       "    </tr>\n",
       "    <tr>\n",
       "      <th>max</th>\n",
       "      <td>7.700000e+06</td>\n",
       "      <td>33.000000</td>\n",
       "      <td>8.000000</td>\n",
       "      <td>13540.000000</td>\n",
       "      <td>1.651359e+06</td>\n",
       "      <td>3.500000</td>\n",
       "      <td>13.000000</td>\n",
       "      <td>9410.000000</td>\n",
       "      <td>4820.000000</td>\n",
       "      <td>2015.000000</td>\n",
       "      <td>2015.000000</td>\n",
       "      <td>47.777600</td>\n",
       "      <td>-121.315000</td>\n",
       "      <td>6210.000000</td>\n",
       "      <td>871200.000000</td>\n",
       "      <td>5.000000</td>\n",
       "    </tr>\n",
       "  </tbody>\n",
       "</table>\n",
       "</div>"
      ],
      "text/plain": [
       "              price      bedrooms     bathrooms   sqft_living      sqft_lot  \\\n",
       "count  2.161300e+04  21613.000000  21613.000000  21613.000000  2.161300e+04   \n",
       "mean   5.401822e+05      3.370842      2.114757   2079.899736  1.510697e+04   \n",
       "std    3.673622e+05      0.930062      0.770163    918.440897  4.142051e+04   \n",
       "min    7.500000e+04      0.000000      0.000000    290.000000  5.200000e+02   \n",
       "25%    3.219500e+05      3.000000      1.750000   1427.000000  5.040000e+03   \n",
       "50%    4.500000e+05      3.000000      2.250000   1910.000000  7.618000e+03   \n",
       "75%    6.450000e+05      4.000000      2.500000   2550.000000  1.068800e+04   \n",
       "max    7.700000e+06     33.000000      8.000000  13540.000000  1.651359e+06   \n",
       "\n",
       "             floors         grade    sqft_above  sqft_basement      yr_built  \\\n",
       "count  21613.000000  21613.000000  21613.000000   21613.000000  21613.000000   \n",
       "mean       1.494309      7.656873   1788.390691     291.509045   1971.005136   \n",
       "std        0.539989      1.175459    828.090978     442.575043     29.373411   \n",
       "min        1.000000      1.000000    290.000000       0.000000   1900.000000   \n",
       "25%        1.000000      7.000000   1190.000000       0.000000   1951.000000   \n",
       "50%        1.500000      7.000000   1560.000000       0.000000   1975.000000   \n",
       "75%        2.000000      8.000000   2210.000000     560.000000   1997.000000   \n",
       "max        3.500000     13.000000   9410.000000    4820.000000   2015.000000   \n",
       "\n",
       "       yr_renovated           lat          long  sqft_living15     sqft_lot15  \\\n",
       "count  21613.000000  21613.000000  21613.000000   21613.000000   21613.000000   \n",
       "mean      84.402258     47.560053   -122.213896    1986.552492   12768.455652   \n",
       "std      401.679240      0.138564      0.140828     685.391304   27304.179631   \n",
       "min        0.000000     47.155900   -122.519000     399.000000     651.000000   \n",
       "25%        0.000000     47.471000   -122.328000    1490.000000    5100.000000   \n",
       "50%        0.000000     47.571800   -122.230000    1840.000000    7620.000000   \n",
       "75%        0.000000     47.678000   -122.125000    2360.000000   10083.000000   \n",
       "max     2015.000000     47.777600   -121.315000    6210.000000  871200.000000   \n",
       "\n",
       "          condition  \n",
       "count  21613.000000  \n",
       "mean       3.409430  \n",
       "std        0.650743  \n",
       "min        1.000000  \n",
       "25%        3.000000  \n",
       "50%        3.000000  \n",
       "75%        4.000000  \n",
       "max        5.000000  "
      ]
     },
     "execution_count": 3,
     "metadata": {},
     "output_type": "execute_result"
    }
   ],
   "source": [
    "data.describe()"
   ]
  },
  {
   "cell_type": "code",
   "execution_count": 4,
   "id": "b7c0c7dd",
   "metadata": {},
   "outputs": [
    {
     "data": {
      "text/plain": [
       "(21613, 16)"
      ]
     },
     "execution_count": 4,
     "metadata": {},
     "output_type": "execute_result"
    }
   ],
   "source": [
    "data.shape"
   ]
  },
  {
   "cell_type": "code",
   "execution_count": 5,
   "id": "0160d7ec",
   "metadata": {},
   "outputs": [
    {
     "name": "stdout",
     "output_type": "stream",
     "text": [
      "<class 'pandas.core.frame.DataFrame'>\n",
      "RangeIndex: 21613 entries, 0 to 21612\n",
      "Data columns (total 16 columns):\n",
      " #   Column         Non-Null Count  Dtype  \n",
      "---  ------         --------------  -----  \n",
      " 0   price          21613 non-null  float64\n",
      " 1   bedrooms       21613 non-null  int64  \n",
      " 2   bathrooms      21613 non-null  float64\n",
      " 3   sqft_living    21613 non-null  int64  \n",
      " 4   sqft_lot       21613 non-null  int64  \n",
      " 5   floors         21613 non-null  float64\n",
      " 6   grade          21613 non-null  int64  \n",
      " 7   sqft_above     21613 non-null  int64  \n",
      " 8   sqft_basement  21613 non-null  int64  \n",
      " 9   yr_built       21613 non-null  int64  \n",
      " 10  yr_renovated   21613 non-null  int64  \n",
      " 11  lat            21613 non-null  float64\n",
      " 12  long           21613 non-null  float64\n",
      " 13  sqft_living15  21613 non-null  int64  \n",
      " 14  sqft_lot15     21613 non-null  int64  \n",
      " 15  condition      21613 non-null  int64  \n",
      "dtypes: float64(5), int64(11)\n",
      "memory usage: 2.6 MB\n"
     ]
    }
   ],
   "source": [
    "data.info()"
   ]
  },
  {
   "cell_type": "code",
   "execution_count": 6,
   "id": "638a57ec",
   "metadata": {},
   "outputs": [
    {
     "data": {
      "text/plain": [
       "array([[<AxesSubplot:title={'center':'price'}>,\n",
       "        <AxesSubplot:title={'center':'bedrooms'}>,\n",
       "        <AxesSubplot:title={'center':'bathrooms'}>,\n",
       "        <AxesSubplot:title={'center':'sqft_living'}>],\n",
       "       [<AxesSubplot:title={'center':'sqft_lot'}>,\n",
       "        <AxesSubplot:title={'center':'floors'}>,\n",
       "        <AxesSubplot:title={'center':'grade'}>,\n",
       "        <AxesSubplot:title={'center':'sqft_above'}>],\n",
       "       [<AxesSubplot:title={'center':'sqft_basement'}>,\n",
       "        <AxesSubplot:title={'center':'yr_built'}>,\n",
       "        <AxesSubplot:title={'center':'yr_renovated'}>,\n",
       "        <AxesSubplot:title={'center':'lat'}>],\n",
       "       [<AxesSubplot:title={'center':'long'}>,\n",
       "        <AxesSubplot:title={'center':'sqft_living15'}>,\n",
       "        <AxesSubplot:title={'center':'sqft_lot15'}>,\n",
       "        <AxesSubplot:title={'center':'condition'}>]], dtype=object)"
      ]
     },
     "execution_count": 6,
     "metadata": {},
     "output_type": "execute_result"
    },
    {
     "data": {
      "image/png": "[encoded data removed]",
      "text/plain": [
       "<Figure size 1440x1080 with 16 Axes>"
      ]
     },
     "metadata": {
      "needs_background": "light"
     },
     "output_type": "display_data"
    }
   ],
   "source": [
    "data.hist(figsize=(20,15),bins=50)"
   ]
  },
  {
   "cell_type": "markdown",
   "id": "078d1ebe",
   "metadata": {},
   "source": [
    "### 2."
   ]
  },
  {
   "cell_type": "code",
   "execution_count": 7,
   "id": "5b509751",
   "metadata": {},
   "outputs": [],
   "source": [
    "from sklearn.linear_model import LinearRegression\n",
    "from sklearn.model_selection import train_test_split\n",
    "from sklearn.metrics import mean_squared_error\n",
    "from sklearn.metrics import accuracy_score\n",
    "from sklearn.preprocessing import StandardScaler"
   ]
  },
  {
   "cell_type": "code",
   "execution_count": 8,
   "id": "6abfc18f",
   "metadata": {},
   "outputs": [],
   "source": [
    "def pred(model, X):\n",
    "    return model.predict(X)\n",
    "def rms(y, y_pred):\n",
    "    return np.sqrt(mean_squared_error(y, y_pred))\n",
    "def accuracy(model, X, y):\n",
    "    return model.score(X, y)"
   ]
  },
  {
   "cell_type": "code",
   "execution_count": 9,
   "id": "1c513ff6",
   "metadata": {},
   "outputs": [],
   "source": [
    "scaler = StandardScaler()"
   ]
  },
  {
   "cell_type": "code",
   "execution_count": 10,
   "id": "e5675784",
   "metadata": {},
   "outputs": [],
   "source": [
    "train_set,test_set=train_test_split(data, test_size=0.2, random_state=42)"
   ]
  },
  {
   "cell_type": "code",
   "execution_count": 11,
   "id": "7d5996ab",
   "metadata": {},
   "outputs": [
    {
     "data": {
      "text/html": [
       "<div>\n",
       "<style scoped>\n",
       "    .dataframe tbody tr th:only-of-type {\n",
       "        vertical-align: middle;\n",
       "    }\n",
       "\n",
       "    .dataframe tbody tr th {\n",
       "        vertical-align: top;\n",
       "    }\n",
       "\n",
       "    .dataframe thead th {\n",
       "        text-align: right;\n",
       "    }\n",
       "</style>\n",
       "<table border=\"1\" class=\"dataframe\">\n",
       "  <thead>\n",
       "    <tr style=\"text-align: right;\">\n",
       "      <th></th>\n",
       "      <th>price</th>\n",
       "      <th>bedrooms</th>\n",
       "      <th>bathrooms</th>\n",
       "      <th>sqft_living</th>\n",
       "      <th>sqft_lot</th>\n",
       "      <th>floors</th>\n",
       "      <th>grade</th>\n",
       "      <th>sqft_above</th>\n",
       "      <th>sqft_basement</th>\n",
       "      <th>yr_built</th>\n",
       "      <th>yr_renovated</th>\n",
       "      <th>lat</th>\n",
       "      <th>long</th>\n",
       "      <th>sqft_living15</th>\n",
       "      <th>sqft_lot15</th>\n",
       "      <th>condition</th>\n",
       "    </tr>\n",
       "  </thead>\n",
       "  <tbody>\n",
       "    <tr>\n",
       "      <th>6325</th>\n",
       "      <td>325000.0</td>\n",
       "      <td>3</td>\n",
       "      <td>1.75</td>\n",
       "      <td>1780</td>\n",
       "      <td>13095</td>\n",
       "      <td>1.0</td>\n",
       "      <td>9</td>\n",
       "      <td>1780</td>\n",
       "      <td>0</td>\n",
       "      <td>1983</td>\n",
       "      <td>0</td>\n",
       "      <td>47.3670</td>\n",
       "      <td>-122.152</td>\n",
       "      <td>2750</td>\n",
       "      <td>13095</td>\n",
       "      <td>4</td>\n",
       "    </tr>\n",
       "    <tr>\n",
       "      <th>13473</th>\n",
       "      <td>257000.0</td>\n",
       "      <td>2</td>\n",
       "      <td>1.00</td>\n",
       "      <td>1000</td>\n",
       "      <td>3700</td>\n",
       "      <td>1.0</td>\n",
       "      <td>6</td>\n",
       "      <td>800</td>\n",
       "      <td>200</td>\n",
       "      <td>1929</td>\n",
       "      <td>0</td>\n",
       "      <td>47.5520</td>\n",
       "      <td>-122.290</td>\n",
       "      <td>1270</td>\n",
       "      <td>5000</td>\n",
       "      <td>3</td>\n",
       "    </tr>\n",
       "    <tr>\n",
       "      <th>17614</th>\n",
       "      <td>228500.0</td>\n",
       "      <td>3</td>\n",
       "      <td>1.00</td>\n",
       "      <td>1080</td>\n",
       "      <td>7486</td>\n",
       "      <td>1.5</td>\n",
       "      <td>6</td>\n",
       "      <td>990</td>\n",
       "      <td>90</td>\n",
       "      <td>1942</td>\n",
       "      <td>0</td>\n",
       "      <td>47.4838</td>\n",
       "      <td>-122.335</td>\n",
       "      <td>1170</td>\n",
       "      <td>7800</td>\n",
       "      <td>3</td>\n",
       "    </tr>\n",
       "    <tr>\n",
       "      <th>16970</th>\n",
       "      <td>288000.0</td>\n",
       "      <td>3</td>\n",
       "      <td>2.25</td>\n",
       "      <td>2090</td>\n",
       "      <td>7500</td>\n",
       "      <td>1.0</td>\n",
       "      <td>7</td>\n",
       "      <td>1280</td>\n",
       "      <td>810</td>\n",
       "      <td>1977</td>\n",
       "      <td>0</td>\n",
       "      <td>47.3951</td>\n",
       "      <td>-122.172</td>\n",
       "      <td>1800</td>\n",
       "      <td>7350</td>\n",
       "      <td>4</td>\n",
       "    </tr>\n",
       "    <tr>\n",
       "      <th>20868</th>\n",
       "      <td>479000.0</td>\n",
       "      <td>2</td>\n",
       "      <td>2.50</td>\n",
       "      <td>1741</td>\n",
       "      <td>1439</td>\n",
       "      <td>2.0</td>\n",
       "      <td>8</td>\n",
       "      <td>1446</td>\n",
       "      <td>295</td>\n",
       "      <td>2007</td>\n",
       "      <td>0</td>\n",
       "      <td>47.7043</td>\n",
       "      <td>-122.209</td>\n",
       "      <td>2090</td>\n",
       "      <td>10454</td>\n",
       "      <td>3</td>\n",
       "    </tr>\n",
       "  </tbody>\n",
       "</table>\n",
       "</div>"
      ],
      "text/plain": [
       "          price  bedrooms  bathrooms  sqft_living  sqft_lot  floors  grade  \\\n",
       "6325   325000.0         3       1.75         1780     13095     1.0      9   \n",
       "13473  257000.0         2       1.00         1000      3700     1.0      6   \n",
       "17614  228500.0         3       1.00         1080      7486     1.5      6   \n",
       "16970  288000.0         3       2.25         2090      7500     1.0      7   \n",
       "20868  479000.0         2       2.50         1741      1439     2.0      8   \n",
       "\n",
       "       sqft_above  sqft_basement  yr_built  yr_renovated      lat     long  \\\n",
       "6325         1780              0      1983             0  47.3670 -122.152   \n",
       "13473         800            200      1929             0  47.5520 -122.290   \n",
       "17614         990             90      1942             0  47.4838 -122.335   \n",
       "16970        1280            810      1977             0  47.3951 -122.172   \n",
       "20868        1446            295      2007             0  47.7043 -122.209   \n",
       "\n",
       "       sqft_living15  sqft_lot15  condition  \n",
       "6325            2750       13095          4  \n",
       "13473           1270        5000          3  \n",
       "17614           1170        7800          3  \n",
       "16970           1800        7350          4  \n",
       "20868           2090       10454          3  "
      ]
     },
     "execution_count": 11,
     "metadata": {},
     "output_type": "execute_result"
    }
   ],
   "source": [
    "train_set.head()"
   ]
  },
  {
   "cell_type": "code",
   "execution_count": 12,
   "id": "4bf2bbb1",
   "metadata": {},
   "outputs": [],
   "source": [
    "X_train_set = train_set.drop('price', axis=1)\n",
    "y_train_set = train_set['price'].copy()\n",
    "X_test_set = test_set.drop('price', axis=1)\n",
    "y_test_set = test_set['price'].copy()"
   ]
  },
  {
   "cell_type": "code",
   "execution_count": 13,
   "id": "8e786bcd",
   "metadata": {},
   "outputs": [],
   "source": [
    "X_train_set_prep = pd.DataFrame(scaler.fit_transform(X_train_set), columns=X_train_set.columns)\n",
    "X_test_set_prep = pd.DataFrame(scaler.fit_transform(X_test_set), columns=X_test_set.columns)"
   ]
  },
  {
   "cell_type": "code",
   "execution_count": 14,
   "id": "b0d83f74",
   "metadata": {},
   "outputs": [],
   "source": [
    "lin_reg = LinearRegression()"
   ]
  },
  {
   "cell_type": "code",
   "execution_count": 15,
   "id": "0b829b49",
   "metadata": {},
   "outputs": [],
   "source": [
    "lin_model = lin_reg.fit(X_train_set_prep, y_train_set)"
   ]
  },
  {
   "cell_type": "code",
   "execution_count": 16,
   "id": "b89732b6",
   "metadata": {},
   "outputs": [
    {
     "name": "stdout",
     "output_type": "stream",
     "text": [
      "predition: [1.67133182e+08 1.63448899e+07 2.42796196e+07 1.75714667e+08\n",
      " 9.93557405e+07]\n",
      "depart: 6325     325000.0\n",
      "13473    257000.0\n",
      "17614    228500.0\n",
      "16970    288000.0\n",
      "20868    479000.0\n",
      "Name: price, dtype: float64\n"
     ]
    }
   ],
   "source": [
    "print(\"predition:\", lin_model.predict(X_train_set.iloc[:5]))\n",
    "print(\"depart:\", y_train_set.iloc[:5])"
   ]
  },
  {
   "cell_type": "code",
   "execution_count": 17,
   "id": "274584b0",
   "metadata": {},
   "outputs": [
    {
     "data": {
      "text/plain": [
       "211018.5483885013"
      ]
     },
     "execution_count": 17,
     "metadata": {},
     "output_type": "execute_result"
    }
   ],
   "source": [
    "y_train_pred = pred(lin_model, X_train_set_prep)\n",
    "acc = rms(y_train_set, y_train_pred)\n",
    "acc"
   ]
  },
  {
   "cell_type": "code",
   "execution_count": 18,
   "id": "f4e90ab3",
   "metadata": {},
   "outputs": [
    {
     "data": {
      "text/plain": [
       "296719031.8474932"
      ]
     },
     "execution_count": 18,
     "metadata": {},
     "output_type": "execute_result"
    }
   ],
   "source": [
    "y_test_pred = pred(lin_model, X_test_set)\n",
    "acc = rms(y_test_set, y_test_pred)\n",
    "acc"
   ]
  },
  {
   "cell_type": "code",
   "execution_count": 19,
   "id": "4f77802b",
   "metadata": {},
   "outputs": [
    {
     "data": {
      "text/plain": [
       "0.6513445674521187"
      ]
     },
     "execution_count": 19,
     "metadata": {},
     "output_type": "execute_result"
    }
   ],
   "source": [
    "sco = accuracy(lin_reg, X_test_set_prep, y_test_set)\n",
    "sco"
   ]
  },
  {
   "cell_type": "markdown",
   "id": "c381b650",
   "metadata": {},
   "source": [
    "# Create a regression model using Decision Tree Regression"
   ]
  },
  {
   "cell_type": "code",
   "execution_count": 20,
   "id": "7935f2aa",
   "metadata": {},
   "outputs": [],
   "source": [
    "from sklearn.tree import DecisionTreeRegressor"
   ]
  },
  {
   "cell_type": "code",
   "execution_count": 21,
   "id": "fb9e0911",
   "metadata": {},
   "outputs": [],
   "source": [
    "tree_reg = DecisionTreeRegressor()\n",
    "tree_model = tree_reg.fit(X_train_set, y_train_set)"
   ]
  },
  {
   "cell_type": "code",
   "execution_count": 22,
   "id": "e72d39ce",
   "metadata": {},
   "outputs": [
    {
     "data": {
      "text/plain": [
       "9995.189125787769"
      ]
     },
     "execution_count": 22,
     "metadata": {},
     "output_type": "execute_result"
    }
   ],
   "source": [
    "y_train_pred_1 = pred(tree_model, X_train_set)\n",
    "acc = rms(y_train_set, y_train_pred_1)\n",
    "acc"
   ]
  },
  {
   "cell_type": "code",
   "execution_count": 23,
   "id": "22a9dc39",
   "metadata": {},
   "outputs": [
    {
     "data": {
      "text/plain": [
       "224362.080118412"
      ]
     },
     "execution_count": 23,
     "metadata": {},
     "output_type": "execute_result"
    }
   ],
   "source": [
    "y_test_pred_1 = pred(tree_model, X_test_set)\n",
    "acc = rms(y_test_set, y_test_pred_1)\n",
    "acc"
   ]
  },
  {
   "cell_type": "code",
   "execution_count": 24,
   "id": "67c53a4c",
   "metadata": {},
   "outputs": [
    {
     "data": {
      "text/plain": [
       "0.6674147421877954"
      ]
     },
     "execution_count": 24,
     "metadata": {},
     "output_type": "execute_result"
    }
   ],
   "source": [
    "sco = accuracy(tree_reg, X_test_set, y_test_set)\n",
    "sco"
   ]
  },
  {
   "cell_type": "code",
   "execution_count": 25,
   "id": "b880c14e",
   "metadata": {},
   "outputs": [],
   "source": [
    "from sklearn.ensemble import RandomForestRegressor"
   ]
  },
  {
   "cell_type": "code",
   "execution_count": 26,
   "id": "d957166a",
   "metadata": {},
   "outputs": [
    {
     "data": {
      "text/plain": [
       "0.8235714215628168"
      ]
     },
     "execution_count": 26,
     "metadata": {},
     "output_type": "execute_result"
    }
   ],
   "source": [
    "rf_reg = RandomForestRegressor()\n",
    "rf_model = rf_reg.fit(X_train_set, y_train_set)\n",
    "score = rf_reg.score(X_test_set, y_test_set)\n",
    "score"
   ]
  },
  {
   "cell_type": "code",
   "execution_count": 27,
   "id": "1c4b2fc9",
   "metadata": {},
   "outputs": [
    {
     "data": {
      "text/plain": [
       "52980.137334883795"
      ]
     },
     "execution_count": 27,
     "metadata": {},
     "output_type": "execute_result"
    }
   ],
   "source": [
    "y_train_pred_2 = pred(rf_model, X_train_set)\n",
    "acc = rms(y_train_set, y_train_pred_2)\n",
    "acc"
   ]
  },
  {
   "cell_type": "code",
   "execution_count": 28,
   "id": "ed80a5a2",
   "metadata": {},
   "outputs": [
    {
     "data": {
      "text/plain": [
       "163411.42900901425"
      ]
     },
     "execution_count": 28,
     "metadata": {},
     "output_type": "execute_result"
    }
   ],
   "source": [
    "y_test_pred_2 = pred(rf_model, X_test_set)\n",
    "acc = rms(y_test_set, y_test_pred_2)\n",
    "acc"
   ]
  },
  {
   "cell_type": "markdown",
   "id": "71395e2d",
   "metadata": {},
   "source": [
    "# Create a regression model using Neural Networks"
   ]
  },
  {
   "cell_type": "code",
   "execution_count": 31,
   "id": "417678cd",
   "metadata": {},
   "outputs": [],
   "source": [
    "from tensorflow import keras"
   ]
  },
  {
   "cell_type": "code",
   "execution_count": 42,
   "id": "d85dc0bc",
   "metadata": {},
   "outputs": [],
   "source": [
    "X_train, X_valid, y_train, y_valid = train_test_split(X_train_set, y_train_set)"
   ]
  },
  {
   "cell_type": "code",
   "execution_count": 45,
   "id": "7a31428c",
   "metadata": {},
   "outputs": [
    {
     "name": "stdout",
     "output_type": "stream",
     "text": [
      "Epoch 1/50\n",
      "406/406 [==============================] - 1s 2ms/step - loss: nan - val_loss: nan\n",
      "Epoch 2/50\n",
      "406/406 [==============================] - 1s 2ms/step - loss: nan - val_loss: nan\n",
      "Epoch 3/50\n",
      "406/406 [==============================] - 1s 2ms/step - loss: nan - val_loss: nan\n",
      "Epoch 4/50\n",
      "406/406 [==============================] - 1s 2ms/step - loss: nan - val_loss: nan\n",
      "Epoch 5/50\n",
      "406/406 [==============================] - 1s 2ms/step - loss: nan - val_loss: nan\n",
      "Epoch 6/50\n",
      "406/406 [==============================] - 1s 2ms/step - loss: nan - val_loss: nan\n",
      "Epoch 7/50\n",
      "406/406 [==============================] - 1s 2ms/step - loss: nan - val_loss: nan\n",
      "Epoch 8/50\n",
      "406/406 [==============================] - 1s 2ms/step - loss: nan - val_loss: nan\n",
      "Epoch 9/50\n",
      "406/406 [==============================] - 1s 2ms/step - loss: nan - val_loss: nan\n",
      "Epoch 10/50\n",
      "406/406 [==============================] - 1s 2ms/step - loss: nan - val_loss: nan\n",
      "Epoch 11/50\n",
      "406/406 [==============================] - 1s 2ms/step - loss: nan - val_loss: nan\n",
      "Epoch 12/50\n",
      "406/406 [==============================] - 1s 2ms/step - loss: nan - val_loss: nan\n",
      "Epoch 13/50\n",
      "406/406 [==============================] - 1s 2ms/step - loss: nan - val_loss: nan\n",
      "Epoch 14/50\n",
      "406/406 [==============================] - 1s 2ms/step - loss: nan - val_loss: nan\n",
      "Epoch 15/50\n",
      "406/406 [==============================] - 1s 2ms/step - loss: nan - val_loss: nan\n",
      "Epoch 16/50\n",
      "406/406 [==============================] - 1s 2ms/step - loss: nan - val_loss: nan\n",
      "Epoch 17/50\n",
      "406/406 [==============================] - 1s 2ms/step - loss: nan - val_loss: nan\n",
      "Epoch 18/50\n",
      "406/406 [==============================] - 1s 3ms/step - loss: nan - val_loss: nan\n",
      "Epoch 19/50\n",
      "406/406 [==============================] - 1s 2ms/step - loss: nan - val_loss: nan\n",
      "Epoch 20/50\n",
      "406/406 [==============================] - 1s 2ms/step - loss: nan - val_loss: nan\n",
      "Epoch 21/50\n",
      "406/406 [==============================] - 1s 2ms/step - loss: nan - val_loss: nan\n",
      "Epoch 22/50\n",
      "406/406 [==============================] - 1s 3ms/step - loss: nan - val_loss: nan\n",
      "Epoch 23/50\n",
      "406/406 [==============================] - 1s 3ms/step - loss: nan - val_loss: nan\n",
      "Epoch 24/50\n",
      "406/406 [==============================] - 2s 4ms/step - loss: nan - val_loss: nan\n",
      "Epoch 25/50\n",
      "406/406 [==============================] - 1s 2ms/step - loss: nan - val_loss: nan\n",
      "Epoch 26/50\n",
      "406/406 [==============================] - 1s 3ms/step - loss: nan - val_loss: nan\n",
      "Epoch 27/50\n",
      "406/406 [==============================] - 1s 3ms/step - loss: nan - val_loss: nan\n",
      "Epoch 28/50\n",
      "406/406 [==============================] - 1s 3ms/step - loss: nan - val_loss: nan\n",
      "Epoch 29/50\n",
      "406/406 [==============================] - 1s 2ms/step - loss: nan - val_loss: nan\n",
      "Epoch 30/50\n",
      "406/406 [==============================] - 1s 2ms/step - loss: nan - val_loss: nan\n",
      "Epoch 31/50\n",
      "406/406 [==============================] - 1s 3ms/step - loss: nan - val_loss: nan\n",
      "Epoch 32/50\n",
      "406/406 [==============================] - 1s 3ms/step - loss: nan - val_loss: nan\n",
      "Epoch 33/50\n",
      "406/406 [==============================] - 1s 3ms/step - loss: nan - val_loss: nan\n",
      "Epoch 34/50\n",
      "406/406 [==============================] - 1s 3ms/step - loss: nan - val_loss: nan\n",
      "Epoch 35/50\n",
      "406/406 [==============================] - 1s 3ms/step - loss: nan - val_loss: nan\n",
      "Epoch 36/50\n",
      "406/406 [==============================] - 2s 4ms/step - loss: nan - val_loss: nan\n",
      "Epoch 37/50\n",
      "406/406 [==============================] - 2s 4ms/step - loss: nan - val_loss: nan\n",
      "Epoch 38/50\n",
      "406/406 [==============================] - 1s 3ms/step - loss: nan - val_loss: nan\n",
      "Epoch 39/50\n",
      "406/406 [==============================] - 2s 4ms/step - loss: nan - val_loss: nan\n",
      "Epoch 40/50\n",
      "406/406 [==============================] - 2s 4ms/step - loss: nan - val_loss: nan\n",
      "Epoch 41/50\n",
      "406/406 [==============================] - 2s 4ms/step - loss: nan - val_loss: nan\n",
      "Epoch 42/50\n",
      "406/406 [==============================] - 2s 4ms/step - loss: nan - val_loss: nan\n",
      "Epoch 43/50\n",
      "406/406 [==============================] - 1s 2ms/step - loss: nan - val_loss: nan\n",
      "Epoch 44/50\n",
      "406/406 [==============================] - 1s 2ms/step - loss: nan - val_loss: nan\n",
      "Epoch 45/50\n",
      "406/406 [==============================] - 1s 2ms/step - loss: nan - val_loss: nan\n",
      "Epoch 46/50\n",
      "406/406 [==============================] - 1s 2ms/step - loss: nan - val_loss: nan\n",
      "Epoch 47/50\n",
      "406/406 [==============================] - 1s 2ms/step - loss: nan - val_loss: nan\n",
      "Epoch 48/50\n",
      "406/406 [==============================] - 1s 2ms/step - loss: nan - val_loss: nan\n",
      "Epoch 49/50\n",
      "406/406 [==============================] - 1s 2ms/step - loss: nan - val_loss: nan\n",
      "Epoch 50/50\n",
      "406/406 [==============================] - 1s 2ms/step - loss: nan - val_loss: nan\n"
     ]
    }
   ],
   "source": [
    "model = keras.models.Sequential([\n",
    "    keras.layers.Dense(30, activation=\"relu\",input_shape=X_train_set.shape[1:]),\n",
    "    keras.layers.Dense(1)\n",
    "])\n",
    "model.compile(loss=\"mean_squared_error\", optimizer=\"sgd\")\n",
    "history = model.fit(X_train, y_train, epochs=50, validation_data=(X_valid, y_valid))"
   ]
  },
  {
   "cell_type": "code",
   "execution_count": 39,
   "id": "a61f3c71",
   "metadata": {},
   "outputs": [
    {
     "name": "stdout",
     "output_type": "stream",
     "text": [
      "136/136 [==============================] - 0s 816us/step - loss: nan\n"
     ]
    },
    {
     "data": {
      "text/plain": [
       "nan"
      ]
     },
     "execution_count": 39,
     "metadata": {},
     "output_type": "execute_result"
    }
   ],
   "source": [
    "mse_test = model.evaluate(X_test_set_prep, y_test_set)\n",
    "mse_test"
   ]
  },
  {
   "cell_type": "code",
   "execution_count": null,
   "id": "a809a8e0",
   "metadata": {},
   "outputs": [],
   "source": []
  }
 ],
 "metadata": {
  "kernelspec": {
   "display_name": "Python 3 (ipykernel)",
   "language": "python",
   "name": "python3"
  },
  "language_info": {
   "codemirror_mode": {
    "name": "ipython",
    "version": 3
   },
   "file_extension": ".py",
   "mimetype": "text/x-python",
   "name": "python",
   "nbconvert_exporter": "python",
   "pygments_lexer": "ipython3",
   "version": "3.10.0"
  }
 },
 "nbformat": 4,
 "nbformat_minor": 5
}
